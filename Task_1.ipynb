{
  "nbformat": 4,
  "nbformat_minor": 0,
  "metadata": {
    "colab": {
      "provenance": [],
      "authorship_tag": "ABX9TyOShltnvm3QY5vKDrRq4c4c",
      "include_colab_link": true
    },
    "kernelspec": {
      "name": "python3",
      "display_name": "Python 3"
    },
    "language_info": {
      "name": "python"
    }
  },
  "cells": [
    {
      "cell_type": "markdown",
      "metadata": {
        "id": "view-in-github",
        "colab_type": "text"
      },
      "source": [
        "<a href=\"https://colab.research.google.com/github/Sh-OV/Colab/blob/main/Task_1.ipynb\" target=\"_parent\"><img src=\"https://colab.research.google.com/assets/colab-badge.svg\" alt=\"Open In Colab\"/></a>"
      ]
    },
    {
      "cell_type": "code",
      "execution_count": 12,
      "metadata": {
        "colab": {
          "base_uri": "https://localhost:8080/"
        },
        "id": "ADhyvY3x-Bla",
        "outputId": "3f99655d-0edc-4a3a-8d00-009ed5f288a0"
      },
      "outputs": [
        {
          "output_type": "stream",
          "name": "stdout",
          "text": [
            "Сумма чисел введенного числа 850 = 13\n"
          ]
        }
      ],
      "source": [
        "import random\n",
        "num = random.randint(100,999)\n",
        "a = num\n",
        "sum = 0 \n",
        "for i in range(3):\n",
        "    r = num % 10\n",
        "    sum += r\n",
        "    num //= 10\n",
        "print(f'Сумма чисел введенного числа {a} = {sum}')"
      ]
    }
  ]
}